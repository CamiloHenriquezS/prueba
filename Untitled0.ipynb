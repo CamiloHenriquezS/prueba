{
  "nbformat": 4,
  "nbformat_minor": 0,
  "metadata": {
    "colab": {
      "provenance": [],
      "authorship_tag": "ABX9TyNEzf0JhFU3dpRFJhxE/PrF",
      "include_colab_link": true
    },
    "kernelspec": {
      "name": "python3",
      "display_name": "Python 3"
    },
    "language_info": {
      "name": "python"
    }
  },
  "cells": [
    {
      "cell_type": "markdown",
      "metadata": {
        "id": "view-in-github",
        "colab_type": "text"
      },
      "source": [
        "<a href=\"https://colab.research.google.com/github/CamiloHenriquezS/prueba/blob/main/Untitled0.ipynb\" target=\"_parent\"><img src=\"https://colab.research.google.com/assets/colab-badge.svg\" alt=\"Open In Colab\"/></a>"
      ]
    },
    {
      "cell_type": "code",
      "execution_count": null,
      "metadata": {
        "id": "MJFK5ne5HY0O"
      },
      "outputs": [],
      "source": []
    },
    {
      "cell_type": "markdown",
      "source": [
        "# ¿Quiénes somos?\n",
        "\n",
        "####Somos una iniciativa de Samsung a nivel global enfocada en empoderar a toda una generación con habilidades 4.0 en un contexto impulsado por la tecnología\n",
        "\n",
        "\n",
        "> # +500\n",
        "> **jóvenes chilenos** certificados desde 2020 en competencias de codificación, programación, big data, IoT e inteligencia artificial\n",
        " blockquote\n",
        "\n",
        "\n",
        "**Samsung Innovation Campus Chile** es un programa intensivo de Samsung que entrega competencias en IA, Big Data y programación. Junto a la **ONG Innovacien hemos** certificado a cientos de jóvenes desde 2020.\n"
      ],
      "metadata": {
        "id": "WsJbKvcmJ9nF"
      }
    },
    {
      "cell_type": "markdown",
      "source": [],
      "metadata": {
        "id": "DagqrflXJNVZ"
      }
    },
    {
      "cell_type": "markdown",
      "source": [
        "![Imagen de SIC](https://innovationcampus.cl/wp-content/uploads/2025/05/Estudiantes-SIC-1.jpg)"
      ],
      "metadata": {
        "id": "YXueo7Q-Lt_x"
      }
    }
  ]
}